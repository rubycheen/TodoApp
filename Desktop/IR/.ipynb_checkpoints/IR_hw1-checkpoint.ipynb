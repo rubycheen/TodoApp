{
 "cells": [
  {
   "cell_type": "code",
   "execution_count": 57,
   "metadata": {},
   "outputs": [],
   "source": [
    "# IR Programming Assignment1\n",
    "# 資管三 B06406009 陳姵如\n",
    "\n",
    "import re\n",
    "import numpy\n",
    "import os\n",
    "import io\n",
    "import nltk\n",
    "import string"
   ]
  },
  {
   "cell_type": "code",
   "execution_count": 58,
   "metadata": {},
   "outputs": [],
   "source": [
    "#讀檔\n",
    "file = open('IR.txt','r')\n",
    "text = file.read()\n",
    "#lowcast\n",
    "text = text.lower()\n",
    "#print(text)\n",
    "\n",
    "#Poter's Algorithm\n",
    "from nltk.stem import PorterStemmer\n",
    "from nltk.stem import LancasterStemmer\n",
    "\n",
    "sentence = text\n",
    "sentence = porter.stem(sentence)\n",
    "\n",
    "#print(sentence)"
   ]
  },
  {
   "cell_type": "code",
   "execution_count": 59,
   "metadata": {},
   "outputs": [],
   "source": [
    "#tokenization\n",
    "\n",
    "from nltk.corpus import stopwords \n",
    "from nltk.tokenize import word_tokenize \n",
    "  \n",
    "example_sent = text\n",
    "  \n",
    "stop_words = set(stopwords.words('english')) \n",
    "  \n",
    "word_tokens = word_tokenize(example_sent) \n",
    "  \n",
    "filtered_sentence = [w for w in word_tokens if not w in stop_words] \n",
    "  \n",
    "filtered_sentence = [] \n",
    "  \n",
    "for w in word_tokens: \n",
    "    if w not in stop_words: \n",
    "        filtered_sentence.append(w) \n",
    "  \n",
    "#print(word_tokens) \n",
    "#print(filtered_sentence) "
   ]
  },
  {
   "cell_type": "code",
   "execution_count": 60,
   "metadata": {},
   "outputs": [],
   "source": [
    "#Stopword removal\n",
    "\n",
    "output = [] \n",
    "\n",
    "stopwords = [\",\", \".\",\"'s\"]\n",
    "\n",
    "for w in filtered_sentence: \n",
    "    if w not in stopwords: \n",
    "        output.append(w) \n",
    "  \n",
    "#print(output) "
   ]
  },
  {
   "cell_type": "code",
   "execution_count": 61,
   "metadata": {},
   "outputs": [],
   "source": [
    "#save as a .txt file\n",
    "\n",
    "string = \"\".join(output)\n",
    "\n",
    "#print(string)\n",
    "\n",
    "f = open('the result of document 1.txt','w')\n",
    "f.write(string)\n",
    "f.close()"
   ]
  }
 ],
 "metadata": {
  "kernelspec": {
   "display_name": "Python 3",
   "language": "python",
   "name": "python3"
  },
  "language_info": {
   "codemirror_mode": {
    "name": "ipython",
    "version": 3
   },
   "file_extension": ".py",
   "mimetype": "text/x-python",
   "name": "python",
   "nbconvert_exporter": "python",
   "pygments_lexer": "ipython3",
   "version": "3.6.5"
  }
 },
 "nbformat": 4,
 "nbformat_minor": 2
}
