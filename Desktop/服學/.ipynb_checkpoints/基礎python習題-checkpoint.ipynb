{
 "cells": [
  {
   "cell_type": "markdown",
   "metadata": {},
   "source": [
    "# 1. 註解\n",
    "請試著透過註解，讀懂程式碼的內容，接著回答程式運行的結果。  \n",
    "小提示：寫在\"#\"字號後面的東西電腦都不會解讀，是寫給讀程式碼的人看的，也就是註解~"
   ]
  },
  {
   "cell_type": "code",
   "execution_count": null,
   "metadata": {},
   "outputs": [],
   "source": [
    "蘋果價格 = 7 #告訴電腦，一顆蘋果7元，並要求電腦儲存起來\n",
    "橘子價格 = 9 #告訴電腦，一顆橘子9元，並要求電腦儲存起來\n",
    "print(蘋果價格 * 3 + 橘子價格 *5) #印出3顆蘋果和5顆橘子的價錢\n",
    "#讀完以上程式後，試著在心裡面運算將印出的價格，並按下run來核對答案"
   ]
  },
  {
   "cell_type": "markdown",
   "metadata": {},
   "source": [
    "# 2. 宣告變數、指派\n",
    "宣告變數其實就是告訴電腦，我要存一個東西，並且告訴電腦它的值。  \n",
    "試著在底下告訴電腦\n",
    "1. x的值是100 \n",
    "2. y的值是50\n",
    "3. z的值是\"早安\"\n",
    "4. 印出x、y、z的值\n",
    "   \n",
    "小提示：可以參考上面第一題的寫法"
   ]
  },
  {
   "cell_type": "code",
   "execution_count": null,
   "metadata": {},
   "outputs": [],
   "source": []
  },
  {
   "cell_type": "markdown",
   "metadata": {},
   "source": [
    "# 3. 變數型態\n",
    "試著按下shift + enter執行下列程式，並觀察xyzr的資料型態"
   ]
  },
  {
   "cell_type": "code",
   "execution_count": 9,
   "metadata": {},
   "outputs": [],
   "source": [
    "x = 6\n",
    "y = 6.0\n",
    "z = True\n",
    "r = \"6\"\n",
    "print(type(x))\n",
    "print(type(y))\n",
    "print(type(z))\n",
    "print(type(r))"
   ]
  },
  {
   "cell_type": "markdown",
   "metadata": {},
   "source": [
    "## 整數(integer)\n",
    "可以進行基本的數學運算，試著解讀以下程式碼，並完成註解的要求。 \n",
    "ex. 加減乘除..."
   ]
  },
  {
   "cell_type": "code",
   "execution_count": 5,
   "metadata": {},
   "outputs": [
    {
     "name": "stdout",
     "output_type": "stream",
     "text": [
      "9\n"
     ]
    }
   ],
   "source": [
    "x = 6\n",
    "y = 3\n",
    "print(x + y) #加\n",
    "#減\n",
    "#乘\n",
    "#除\n",
    "#取餘數\n",
    "#次方\n",
    "#取商"
   ]
  },
  {
   "cell_type": "markdown",
   "metadata": {},
   "source": [
    "## 浮點數(floating-point)\n",
    "觀察到上一格的例子，x / y的結果竟然是6.0!!!  \n",
    "多出來的小數點其實就代表python幫你把整數換成小數型態了，因為除法有可能得到非整數解。  \n",
    "除此之外，上述整數的數學運算也適用於浮點數~  \n",
    "試著按照註解的內容完成下一格程式碼"
   ]
  },
  {
   "cell_type": "code",
   "execution_count": 7,
   "metadata": {
    "scrolled": true
   },
   "outputs": [
    {
     "name": "stdout",
     "output_type": "stream",
     "text": [
      "3.0\n"
     ]
    }
   ],
   "source": [
    "a = 3\n",
    "#請試著印出a的值\n",
    "#再試著印出a的型態\n",
    "a = a / 1\n",
    "#再次試著印出a的值\n",
    "print(a)\n",
    "#再次試著印出a的型態"
   ]
  },
  {
   "cell_type": "markdown",
   "metadata": {},
   "source": [
    "## 布林值(boolean)\n",
    "除了上面所教的數字以外，變數還能存bool值(True or False)\n",
    "解讀下列程式碼並執行之"
   ]
  },
  {
   "cell_type": "code",
   "execution_count": 8,
   "metadata": {},
   "outputs": [
    {
     "name": "stdout",
     "output_type": "stream",
     "text": [
      "True\n",
      "False\n"
     ]
    }
   ],
   "source": [
    "a = True\n",
    "b = False\n",
    "print(a)\n",
    "print(b)"
   ]
  },
  {
   "cell_type": "markdown",
   "metadata": {},
   "source": [
    "## 字串(string)\n",
    "用雙引號或單引號包起來的一串字，就是字串\n",
    "字串是可以用加法的，會把兩個字串串接起來"
   ]
  },
  {
   "cell_type": "code",
   "execution_count": 9,
   "metadata": {},
   "outputs": [
    {
     "name": "stdout",
     "output_type": "stream",
     "text": [
      "你好世界\n"
     ]
    }
   ],
   "source": [
    "#用單引號創建一個字串「你好」\n",
    "x = '你好'\n",
    "#用雙引號創建一個字串「世界」\n",
    "y = \"世界\"\n",
    "#把上面的兩個字串串起來，並列印出來\n",
    "print(x+y)"
   ]
  },
  {
   "cell_type": "code",
   "execution_count": null,
   "metadata": {},
   "outputs": [],
   "source": [
    "print ( 5 + 10*2 / 4 - 1 )  →  ?\n",
    "print( ‘我今年’ + 15 + ‘歲’ )  →  ?\n",
    "print( ‘我今年’ , 15 , ‘歲’ )  →  ?\n",
    "print( ‘我今年’ + str(15) + ‘歲’ )  →  ?\n",
    "print( ‘我今年’ , str(15) , ‘歲’ )  →  ?"
   ]
  },
  {
   "cell_type": "markdown",
   "metadata": {},
   "source": [
    "# 資料型別轉換"
   ]
  },
  {
   "cell_type": "code",
   "execution_count": null,
   "metadata": {},
   "outputs": [],
   "source": []
  },
  {
   "cell_type": "markdown",
   "metadata": {},
   "source": [
    "# 4.資料輸出(print)\n",
    "前面已經用過很多次了，在這裡重新介紹："
   ]
  },
  {
   "cell_type": "code",
   "execution_count": 8,
   "metadata": {},
   "outputs": [
    {
     "name": "stdout",
     "output_type": "stream",
     "text": [
      "\n"
     ]
    }
   ],
   "source": [
    "print()"
   ]
  },
  {
   "cell_type": "markdown",
   "metadata": {},
   "source": [
    "# 5. 資料輸入(input)\n",
    "請設計一個程式，讓老師可以輸入班上5個同學的成績之後，算出5個同學的平均分數並列印出來  \n",
    "小提示：可以參考前面的數學運算"
   ]
  },
  {
   "cell_type": "code",
   "execution_count": null,
   "metadata": {},
   "outputs": [],
   "source": []
  },
  {
   "cell_type": "markdown",
   "metadata": {},
   "source": [
    "# 6. 數值比較\n",
    "等於：==  \n",
    "不等於：!=  \n",
    "小於：<  \n",
    "小於等於：<=  \n",
    "大於等於：>=  \n",
    "大於:>  \n",
    "請完成註解要求的程式碼並執行"
   ]
  },
  {
   "cell_type": "code",
   "execution_count": null,
   "metadata": {},
   "outputs": [],
   "source": [
    "a = 7\n",
    "b = 3\n",
    "#問電腦a是否等於b，並要求電腦印出結果\n",
    "#問電腦a是否不等於b，並要求電腦印出結果\n",
    "#問電腦a是否小於b，並要求電腦印出結果\n",
    "#問電腦a是否大於b，並要求電腦印出結果\n",
    "#問電腦a是否小於等於b，並要求電腦印出結果\n",
    "#問電腦a是否大於等於b，並要求電腦印出結果\n"
   ]
  },
  {
   "cell_type": "markdown",
   "metadata": {},
   "source": [
    "# 7. 條件式的運算\n",
    "and 就是 \"且\" 的意思  \n",
    "or  就是 \"或\" 的意思  \n",
    "not 就是 \"否\"的意思  "
   ]
  },
  {
   "cell_type": "code",
   "execution_count": null,
   "metadata": {},
   "outputs": [],
   "source": [
    "a = 7\n",
    "b = 3\n",
    "c = 6\n",
    "#問電腦a是不是等於b而且b是不是等於c，並要求電腦印出結果\n",
    "#問電腦a不是不等於b或b是不是不等於c，並要求電腦印出結果\n",
    "#問電腦a是不是\"不\"小於b，並要求電腦印出結果"
   ]
  },
  {
   "cell_type": "code",
   "execution_count": null,
   "metadata": {},
   "outputs": [],
   "source": [
    "x = \"he\"\n",
    "y = \"ll\"\n",
    "print(x, y) #要在這一行做什麼更動才會印出\"hello\"呢"
   ]
  },
  {
   "cell_type": "markdown",
   "metadata": {},
   "source": [
    "# 8. 選擇條件(if-else)\n",
    "if告訴電腦\"如果...，就做...\"  \n",
    "elif告訴電腦\"不然如果...，就做...\"  \n",
    "else告訴電腦\"不然就做...\"  \n",
    "記得用空格區分段落，多一個少一個都不行"
   ]
  },
  {
   "cell_type": "code",
   "execution_count": 1,
   "metadata": {},
   "outputs": [],
   "source": [
    "#試著寫一個程式，讓使用者輸入四個數字，並印出最大的數字"
   ]
  },
  {
   "cell_type": "code",
   "execution_count": null,
   "metadata": {},
   "outputs": [],
   "source": []
  }
 ],
 "metadata": {
  "kernelspec": {
   "display_name": "Python 3",
   "language": "python",
   "name": "python3"
  },
  "language_info": {
   "codemirror_mode": {
    "name": "ipython",
    "version": 3
   },
   "file_extension": ".py",
   "mimetype": "text/x-python",
   "name": "python",
   "nbconvert_exporter": "python",
   "pygments_lexer": "ipython3",
   "version": "3.7.4"
  }
 },
 "nbformat": 4,
 "nbformat_minor": 2
}
